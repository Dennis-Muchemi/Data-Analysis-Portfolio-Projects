{
 "cells": [
  {
   "cell_type": "code",
   "execution_count": 1,
   "id": "d26676ca-3e87-4535-93e4-6023b3581335",
   "metadata": {},
   "outputs": [],
   "source": [
    "import os, shutil"
   ]
  },
  {
   "cell_type": "code",
   "execution_count": null,
   "id": "ef5533f1-12bb-4336-870f-379e5bcd3c2b",
   "metadata": {},
   "outputs": [],
   "source": []
  },
  {
   "cell_type": "code",
   "execution_count": 25,
   "id": "efe7a195-7e9e-49b9-8233-b5de6cb96abd",
   "metadata": {},
   "outputs": [],
   "source": [
    "path = r\"C:/Users/denni/OneDrive/Documents/Data analysis/Data Analysis Projects/Python Projects/Automatic File Sorter In File Explorer/Testing Folder/\""
   ]
  },
  {
   "cell_type": "code",
   "execution_count": null,
   "id": "37fa041e-5483-4986-b152-2b393c5f4219",
   "metadata": {},
   "outputs": [],
   "source": []
  },
  {
   "cell_type": "code",
   "execution_count": 23,
   "id": "cb36f01e-75b0-49be-923b-70c8ff5b0031",
   "metadata": {},
   "outputs": [],
   "source": [
    "file_name = os.listdir(path)"
   ]
  },
  {
   "cell_type": "code",
   "execution_count": null,
   "id": "f42c6dfb-faae-48fe-aa9c-dc7593e70eb5",
   "metadata": {},
   "outputs": [],
   "source": []
  },
  {
   "cell_type": "code",
   "execution_count": 33,
   "id": "69ececf5-0a6b-4808-b8ec-25c3bd0b21e8",
   "metadata": {},
   "outputs": [],
   "source": [
    "folder_names = ['pdf files', 'documents', 'text files', 'csv files', 'excel workbooks']\n",
    "\n",
    "for loop in range(0,5):\n",
    "    if not os.path.exists(path + folder_names[loop]):\n",
    "        os.makedirs(path + folder_names[loop])"
   ]
  },
  {
   "cell_type": "code",
   "execution_count": null,
   "id": "3f6ac0f5-dcbb-49b6-904f-178f0cba1de7",
   "metadata": {},
   "outputs": [],
   "source": []
  },
  {
   "cell_type": "code",
   "execution_count": null,
   "id": "e6e37e31-4c39-417c-be85-2d41def8a8d9",
   "metadata": {},
   "outputs": [],
   "source": []
  },
  {
   "cell_type": "code",
   "execution_count": 37,
   "id": "8efc4cc0-8bb9-4700-b061-d5c24ee58022",
   "metadata": {},
   "outputs": [],
   "source": [
    "for file in file_name:\n",
    "    if \".pdf\" in file and not os.path.exists(path + \"pdf files/\" + file):\n",
    "        shutil.move(path + file, path + \"pdf files/\" + file)\n",
    "    elif \".csv\" in file and not os.path.exists(path + \"csv files/\" + file):\n",
    "        shutil.move(path + file, path + \"csv files/\" + file)\n",
    "    elif \".txt\" in file and not os.path.exists(path + \"text files/\" + file):\n",
    "        shutil.move(path + file, path + \"text files/\" + file)\n",
    "    elif \".xlsx\" in file and not os.path.exists(path + \"excel workbooks/\" + file):\n",
    "        shutil.move(path + file, path + \"excel workbooks/\" + file)\n",
    "    elif \".docx\" in file and not os.path.exists(path + \"documents/\" + file):\n",
    "        shutil.move(path + file, path + \"documents/\" + file)"
   ]
  },
  {
   "cell_type": "code",
   "execution_count": null,
   "id": "273443fb-1694-46c3-b927-baca33e4a60d",
   "metadata": {},
   "outputs": [],
   "source": []
  },
  {
   "cell_type": "code",
   "execution_count": null,
   "id": "cb1f1a8b-dd2b-4b99-9d74-53d29db48bf0",
   "metadata": {},
   "outputs": [],
   "source": []
  },
  {
   "cell_type": "code",
   "execution_count": null,
   "id": "1fd61cb0-544a-48b8-985d-a0bdacba188b",
   "metadata": {},
   "outputs": [],
   "source": []
  },
  {
   "cell_type": "code",
   "execution_count": null,
   "id": "5629020a-ad40-47cc-a5da-95410cfd7737",
   "metadata": {},
   "outputs": [],
   "source": []
  },
  {
   "cell_type": "code",
   "execution_count": null,
   "id": "33256780-c525-43f1-96b4-1ccf6c754302",
   "metadata": {},
   "outputs": [],
   "source": []
  },
  {
   "cell_type": "code",
   "execution_count": null,
   "id": "f0593418-ac76-4f6b-97f3-0a8ae5f98449",
   "metadata": {},
   "outputs": [],
   "source": []
  },
  {
   "cell_type": "code",
   "execution_count": null,
   "id": "8da7db3e-b78c-4f92-8d47-1124d5726641",
   "metadata": {},
   "outputs": [],
   "source": []
  },
  {
   "cell_type": "code",
   "execution_count": null,
   "id": "00d8e9dd-54e3-4ad6-a34c-f44da86168f6",
   "metadata": {},
   "outputs": [],
   "source": []
  },
  {
   "cell_type": "code",
   "execution_count": null,
   "id": "c39540ef-d108-4d0e-9d30-83a817df6eb0",
   "metadata": {},
   "outputs": [],
   "source": []
  },
  {
   "cell_type": "code",
   "execution_count": null,
   "id": "2bc62651-7a47-4e52-add7-b0d630059c13",
   "metadata": {},
   "outputs": [],
   "source": []
  },
  {
   "cell_type": "code",
   "execution_count": null,
   "id": "4ebc264c-5e42-4ec9-b5ed-299f2968d9a0",
   "metadata": {},
   "outputs": [],
   "source": []
  },
  {
   "cell_type": "code",
   "execution_count": null,
   "id": "2f99ab4c-8076-4bb5-8c2f-6903604d7f0b",
   "metadata": {},
   "outputs": [],
   "source": []
  }
 ],
 "metadata": {
  "kernelspec": {
   "display_name": "Python 3 (ipykernel)",
   "language": "python",
   "name": "python3"
  },
  "language_info": {
   "codemirror_mode": {
    "name": "ipython",
    "version": 3
   },
   "file_extension": ".py",
   "mimetype": "text/x-python",
   "name": "python",
   "nbconvert_exporter": "python",
   "pygments_lexer": "ipython3",
   "version": "3.11.5"
  }
 },
 "nbformat": 4,
 "nbformat_minor": 5
}
